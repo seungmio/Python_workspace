{
 "cells": [
  {
   "cell_type": "code",
   "execution_count": 1,
   "metadata": {},
   "outputs": [],
   "source": [
    "import warnings\n",
    "warnings.filterwarnings(action='ignore')\n",
    "import requests\n",
    "#from bs4 import BeautifulSoup #html문서를 파싱할 때 사용하므로 AJAX로 넘어오는 데이터를 크롤링할 때 사용하지 않는다.\n",
    "import json #json 형태의 문자열을 파이썬에서 처리하기 위해 loads() 메소드로 딕셔너리나 리스트 형태로 변환한다."
   ]
  },
  {
   "cell_type": "code",
   "execution_count": 2,
   "metadata": {},
   "outputs": [
    {
     "name": "stdout",
     "output_type": "stream",
     "text": [
      "<Response [200]>\n"
     ]
    }
   ],
   "source": [
    "#실시간 검색어가 웹 페이지에 전부 혹은 일부가 포함되어있지 않고 ajax를 이용해서 받아오는 방식이 사용된다.\n",
    "#Request Method가 GET이므로 requests 모듈의 get() 메소드를 사용해서 실시간 검색어를 받아온다.\n",
    "targetSite = 'https://www.nate.com/js/data/jsonLiveKeywordDataV1.js?v=202109062025'\n",
    "request = requests.get(targetSite)\n",
    "print(request)\n",
    "#파이썬은 한글 encoding이 유니코드(UTF-8)로 되어있기 때문에 encoding이 'euc-kr' 등의 방식으로 되어있을 경우 사이트를 크롤링\n",
    "#할 때 한글이 깨져서 보이면 아래와 같이 한글 encoding을 바꿔준다.\n",
    "request.encoding = 'euc - kr'"
   ]
  },
  {
   "cell_type": "code",
   "execution_count": 3,
   "metadata": {},
   "outputs": [
    {
     "name": "stdout",
     "output_type": "stream",
     "text": [
      "<class 'str'>\n",
      "[[\"1\",  \"국민지원금 신청\",  \"s\",  \"0\",  \"국민지원금 신청\"], [\"2\",  \"오세훈 경찰인가 하명\",  \"n\",  \"0\",  \"오세훈 경찰인가 하명\"], [\"3\",  \"생방송 투데이\",  \"-\",  \"1\",  \"생방송 투데이\"], [\"4\",  \"코로나 19 검사에\",  \"n\",  \"0\",  \"코로나 19 검사에\"], [\"5\",  \"생생정보\",  \"s\",  \"0\",  \"생생정보\"], [\"6\",  \"文대통령 특별재난지역 선포\",  \"n\",  \"0\",  \"文대통령 특별재난지역 선포\"], [\"7\",  \"돌싱글즈\",  \"+\",  \"2\",  \"돌싱글즈\"], [\"8\",  \"랄랄\",  \"-\",  \"2\",  \"랄랄\"], [\"9\",  \"유재석\",  \"n\",  \"0\",  \"유재석\"], [\"10\",  \"두 번째 남편\",  \"n\",  \"0\",  \"두 번째 남편\"]]\n"
     ]
    }
   ],
   "source": [
    "issues = request.text\n",
    "print(type(issues))\n",
    "print(issues)"
   ]
  },
  {
   "cell_type": "code",
   "execution_count": 4,
   "metadata": {},
   "outputs": [
    {
     "name": "stdout",
     "output_type": "stream",
     "text": [
      "<class 'list'>\n",
      "[[\"1\",  \"국민지원금 신청\",  \"s\",  \"0\",  \"국민지원금 신청\"], [\"2\",  \"오세훈 경찰인가 하명\",  \"n\",  \"0\",  \"오세훈 경찰인가 하명\"], [\"3\",  \"생방송 투데이\",  \"-\",  \"1\",  \"생방송 투데이\"], [\"4\",  \"코로나 19 검사에\",  \"n\",  \"0\",  \"코로나 19 검사에\"], [\"5\",  \"생생정보\",  \"s\",  \"0\",  \"생생정보\"], [\"6\",  \"文대통령 특별재난지역 선포\",  \"n\",  \"0\",  \"文대통령 특별재난지역 선포\"], [\"7\",  \"돌싱글즈\",  \"+\",  \"2\",  \"돌싱글즈\"], [\"8\",  \"랄랄\",  \"-\",  \"2\",  \"랄랄\"], [\"9\",  \"유재석\",  \"n\",  \"0\",  \"유재석\"], [\"10\",  \"두 번째 남편\",  \"n\",  \"0\",  \"두 번째 남편\"]]\n"
     ]
    }
   ],
   "source": [
    "#json 문자열 형태로 얻어온 실시간 이슈 키워드는 json 모듈의 loads() 메소드를 사용해서 파이썬에서 처리할 수 있는 데이터\n",
    "#타입으로 변환시켜 처리한다.\n",
    "#loads() 메소드는 json 타입의 문자열이 {}를 포함하는 형태면 딕셔너리로 []만 포함하는 형태면 리스트로 자동 변환한다.\n",
    "ranks = json.loads(issues)\n",
    "print(type(ranks))\n",
    "print(issues)"
   ]
  },
  {
   "cell_type": "code",
   "execution_count": 5,
   "metadata": {},
   "outputs": [
    {
     "name": "stdout",
     "output_type": "stream",
     "text": [
      "<class 'list'>\n",
      "[[\"1\",  \"국민지원금 신청\",  \"s\",  \"0\",  \"국민지원금 신청\"], [\"2\",  \"오세훈 경찰인가 하명\",  \"n\",  \"0\",  \"오세훈 경찰인가 하명\"], [\"3\",  \"생방송 투데이\",  \"-\",  \"1\",  \"생방송 투데이\"], [\"4\",  \"코로나 19 검사에\",  \"n\",  \"0\",  \"코로나 19 검사에\"], [\"5\",  \"생생정보\",  \"s\",  \"0\",  \"생생정보\"], [\"6\",  \"文대통령 특별재난지역 선포\",  \"n\",  \"0\",  \"文대통령 특별재난지역 선포\"], [\"7\",  \"돌싱글즈\",  \"+\",  \"2\",  \"돌싱글즈\"], [\"8\",  \"랄랄\",  \"-\",  \"2\",  \"랄랄\"], [\"9\",  \"유재석\",  \"n\",  \"0\",  \"유재석\"], [\"10\",  \"두 번째 남편\",  \"n\",  \"0\",  \"두 번째 남편\"]]\n"
     ]
    }
   ],
   "source": [
    "#json 모듈을 사용하지 않으려면 requests 모듈의 json() 메소드를 사용해서 파이썬에서 처리할 수 있는 데이터 타입으로 변환시켜\n",
    "#사용한다.\n",
    "ranks = request.json()\n",
    "print(type(ranks))\n",
    "print(issues)"
   ]
  },
  {
   "cell_type": "code",
   "execution_count": 6,
   "metadata": {},
   "outputs": [
    {
     "name": "stdout",
     "output_type": "stream",
     "text": [
      "['1', '국민지원금 신청', 's', '0', '국민지원금 신청']\n",
      "['2', '오세훈 경찰인가 하명', 'n', '0', '오세훈 경찰인가 하명']\n",
      "['3', '생방송 투데이', '-', '1', '생방송 투데이']\n",
      "['4', '코로나 19 검사에', 'n', '0', '코로나 19 검사에']\n",
      "['5', '생생정보', 's', '0', '생생정보']\n",
      "['6', '文대통령 특별재난지역 선포', 'n', '0', '文대통령 특별재난지역 선포']\n",
      "['7', '돌싱글즈', '+', '2', '돌싱글즈']\n",
      "['8', '랄랄', '-', '2', '랄랄']\n",
      "['9', '유재석', 'n', '0', '유재석']\n",
      "['10', '두 번째 남편', 'n', '0', '두 번째 남편']\n"
     ]
    }
   ],
   "source": [
    "for rank in ranks:\n",
    "    print(rank)"
   ]
  },
  {
   "cell_type": "code",
   "execution_count": 8,
   "metadata": {},
   "outputs": [
    {
     "name": "stdout",
     "output_type": "stream",
     "text": [
      " 1위 : 국민지원금 신청 [-]\n",
      " 2위 : 오세훈 경찰인가 하명 new\n",
      " 3위 : 생방송 투데이 [↓1]\n",
      " 4위 : 코로나 19 검사에 new\n",
      " 5위 : 생생정보 [-]\n",
      " 6위 : 文대통령 특별재난지역 선포 new\n",
      " 7위 : 돌싱글즈 [↑2]\n",
      " 8위 : 랄랄 [↓2]\n",
      " 9위 : 유재석 new\n",
      "10위 : 두 번째 남편 new\n"
     ]
    }
   ],
   "source": [
    "for rank in ranks:\n",
    "    print('{0:>2s}위 : {1}'.format(rank[0], rank[1]), end='')\n",
    "    if rank[2] == '+':\n",
    "        print(' [{}{}]'.format('↑', rank[3]))\n",
    "    elif rank[2] == '-':\n",
    "        print(' [{}{}]'.format('↓', rank[3]))\n",
    "    elif rank[2] == 's':\n",
    "        print(' [-]')\n",
    "    else:\n",
    "        print(' new')"
   ]
  }
 ],
 "metadata": {
  "kernelspec": {
   "display_name": "Python 3",
   "language": "python",
   "name": "python3"
  },
  "language_info": {
   "codemirror_mode": {
    "name": "ipython",
    "version": 3
   },
   "file_extension": ".py",
   "mimetype": "text/x-python",
   "name": "python",
   "nbconvert_exporter": "python",
   "pygments_lexer": "ipython3",
   "version": "3.7.6"
  }
 },
 "nbformat": 4,
 "nbformat_minor": 4
}
